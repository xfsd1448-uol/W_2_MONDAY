{
 "cells": [
  {
   "cell_type": "markdown",
   "metadata": {},
   "source": [
    "# Programming as a Way of Thinking \n",
    "\n",
    "**Based on *Think Python: How to Think Like a Computer Scientist*, Chapter 1: Programming as a Way of Thinking**\n",
    "\n",
    "## Objectives:\n",
    "- **Understand key concepts:** Distinguish between *programming* (the problem-solving process) and *coding* (translating solutions into a specific language).\n",
    "- **Develop pseudocode skills:** Express algorithms in plain language before writing code.\n",
    "- **Practice scaffolding:** Start with fill-in-the-blank exercises and progress to writing complete programs from scratch."
   ]
  },
  {
   "cell_type": "markdown",
   "metadata": {},
   "source": [
    "### Programming (Algorithm Design / Pseudocode)\n",
    "\n",
    "1. **Consider the Problem:**\n",
    "   - We need to sum all even numbers from a given list of numbers.\n",
    "\n",
    "2. **Design the Algorithm (Pseudocode):**\n",
    "\n",
    "   ```\n",
    "   FUNCTION sum_even_numbers(list_of_numbers):\n",
    "       SET total TO 0\n",
    "       FOR EACH number IN list_of_numbers:\n",
    "           IF number is even:\n",
    "               ADD number TO total\n",
    "       RETURN total\n",
    "   ```\n",
    "\n",
    "   *Explanation:*  \n",
    "   In this phase, you are **programming** by designing a solution in plain language (or pseudocode) without worrying about the specific syntax of a programming language."
   ]
  },
  {
   "cell_type": "markdown",
   "metadata": {},
   "source": [
    "### Coding (Implementation in Python)\n",
    "\n",
    "Now, we take our pseudocode and **code** it in Python. Below is the implementation:"
   ]
  },
  {
   "cell_type": "code",
   "execution_count": null,
   "metadata": {},
   "outputs": [],
   "source": [
    "def sum_even_numbers(numbers):\n",
    "    total = 0\n",
    "    for number in numbers:\n",
    "        if  # your code here:  Check if the number is even\n",
    "            total += number\n",
    "    return total\n",
    "\n",
    "# Example usage:\n",
    "numbers_list = [1, 2, 3, 4, 5, 6]\n",
    "print(\"Sum of even numbers:\", sum_even_numbers(numbers_list))"
   ]
  },
  {
   "cell_type": "markdown",
   "metadata": {},
   "source": [
    "### 1.2 Reflect and Write\n",
    "\n",
    "**Exercise 1:** In your own words, write a short paragraph (3–5 sentences) explaining:\n",
    "- What is programming?\n",
    "- What is coding?\n",
    "- How do they work together?\n",
    "\n"
   ]
  },
  {
   "cell_type": "markdown",
   "metadata": {},
   "source": [
    "*Write your answer blow,in this new markdown cell (double click here).*\n",
    "\n",
    "\n"
   ]
  },
  {
   "cell_type": "markdown",
   "metadata": {},
   "source": [
    "## Part 2: Pseudocode – Planning Your Solutions\n",
    "\n",
    "Before writing actual code, many programmers write **pseudocode**—a plain language description of the algorithm."
   ]
  },
  {
   "cell_type": "markdown",
   "metadata": {},
   "source": [
    "### 2.1 Example: Find the Maximum Number\n",
    "\n",
    "**Pseudocode Example:**\n",
    "```\n",
    "START\n",
    "  SET numbers to a list of integers\n",
    "  SET max_value to the first element in numbers\n",
    "  FOR each number in numbers DO:\n",
    "      IF number is greater than max_value THEN:\n",
    "          SET max_value to number\n",
    "  END FOR\n",
    "  PRINT max_value\n",
    "END\n",
    "```"
   ]
  },
  {
   "cell_type": "markdown",
   "metadata": {},
   "source": [
    "### 2.2 Fill-in-the-Blanks (Pseudocode)\n",
    "\n",
    "Below is pseudocode with some missing parts. Fill in the blanks to complete the algorithm for finding the maximum number in a list.\n",
    "\n",
    "```\n",
    "START\n",
    "  SET numbers to a list of integers\n",
    "  SET max_value to ______________________\n",
    "  FOR each number in numbers DO:\n",
    "      IF __________________________ THEN:\n",
    "          SET __________________________ to number\n",
    "      END IF\n",
    "  END FOR\n",
    "  PRINT ________________________\n",
    "END\n",
    "```\n",
    "\n",
    "*Hints:*\n",
    "- The initial `max_value` should be the first element of the list.\n",
    "- The condition should check if the current number is greater than the current `max_value`.\n",
    "- The print statement should output the maximum value.\n",
    "\n",
    "*Write your filled pseudocode in a new markdown cell (or below as a comment).*"
   ]
  },
  {
   "cell_type": "markdown",
   "metadata": {},
   "source": [
    "## Part 3: Hands-On Python Coding Exercises\n",
    "\n",
    "Now we move from planning (pseudocode) to actual Python coding. Follow the scaffolded steps to reinforce your understanding."
   ]
  },
  {
   "cell_type": "markdown",
   "metadata": {},
   "source": [
    "### 3.1 Fill-in-the-Blanks (Python Code)\n",
    "\n",
    "Complete the following Python code that finds the maximum value in a list by filling in the blanks."
   ]
  },
  {
   "cell_type": "code",
   "execution_count": null,
   "metadata": {},
   "outputs": [],
   "source": [
    "numbers = [3, 7, 2, 9, 4]\n",
    "\n",
    "# Initialize max_value with the first element of the list\n",
    "max_value = \n",
    "# Hint: use the first element in 'numbers'\n",
    "\n",
    "# Loop through each number in the list\n",
    "for num in numbers:\n",
    "    # If the current number is greater than max_value, update max_value\n",
    "    if num > __________:  # What should be compared here?\n",
    "        __________ = num  # Which variable should be updated?\n",
    "\n",
    "# Output the result\n",
    "print(\"The maximum value is:\", __________)\n",
    "\n",
    "# Replace the underscores (__________) with the correct code."
   ]
  },
  {
   "cell_type": "markdown",
   "metadata": {},
   "source": [
    "### 3.2 Writing Code from Scratch\n",
    "\n",
    "Now it’s time to write a program entirely on your own. Follow the steps provided below."
   ]
  },
  {
   "cell_type": "markdown",
   "metadata": {},
   "source": [
    "#### Exercise: Sum of a List of Numbers\n",
    "\n",
    "**Problem Statement:**\n",
    "\n",
    "Write a Python program that:\n",
    "1. Asks the user to input a list of numbers separated by commas.\n",
    "2. Converts the input into a list of integers.\n",
    "3. Computes the sum of these numbers.\n",
    "4. Prints the result.\n",
    "\n",
    "**Step-by-Step Plan (Pseudocode):**\n",
    "```\n",
    "START\n",
    "  PROMPT the user to enter numbers separated by commas\n",
    "  SPLIT the input string into individual number strings\n",
    "  CONVERT each number string to an integer and store them in a list called numbers\n",
    "  SET total to 0\n",
    "  FOR each number in numbers DO:\n",
    "      ADD number to total\n",
    "  END FOR\n",
    "  PRINT the total\n",
    "END\n",
    "```\n",
    "\n",
    "Now, write the complete Python code based on your pseudocode in the code cell below:"
   ]
  },
  {
   "cell_type": "code",
   "execution_count": null,
   "metadata": {},
   "outputs": [],
   "source": [
    "# Step 1: Get input from the user\n",
    "input_str = input(\"Enter numbers separated by commas: \")\n",
    "\n",
    "# Step 2: Split the input into a list of strings\n",
    "number_strings = input_str.split(\",\")\n",
    "\n",
    "# Step 3: Convert the list of strings into a list of integers\n",
    "numbers = [int(num.strip()) for num in number_strings]\n",
    "\n",
    "# Step 4: Initialize total to 0\n",
    "total = 0\n",
    "\n",
    "# Step 5: Sum up the numbers\n",
    "for num in numbers:\n",
    "    total += num\n",
    "\n",
    "# Step 6: Print the result\n",
    "print(\"The sum of the numbers is:\", total)"
   ]
  },
  {
   "cell_type": "markdown",
   "metadata": {},
   "source": [
    "## Part 4: Reflection and Challenge\n",
    "\n",
    "### 4.1 Reflection Questions\n",
    "\n",
    "1. **Programming vs. Coding:**  \n",
    "   - How did writing pseudocode help you plan your solution before coding?\n",
    "   - Which part of the process did you find more challenging—thinking through the algorithm or writing the code? Explain why.\n",
    "\n",
    "2. **Debugging and Testing:**  \n",
    "   - After running your Python programs, what strategies did you use to identify and fix any errors?\n",
    "   - How does the process of testing your code relate to the way you think about problem-solving in everyday tasks?\n",
    "\n",
    "*Write your responses in a new markdown cell or as comments in a code cell.*"
   ]
  },
  {
   "cell_type": "markdown",
   "metadata": {},
   "source": [
    "### 4.2 Extension Challenge (Optional)\n",
    "\n",
    "Try creating a program that:\n",
    "\n",
    "- **Problem:** Asks the user for a list of numbers and then prints out only the even numbers.\n",
    "\n",
    "**Steps:**\n",
    "1. Get user input.\n",
    "2. Convert the input into a list of integers.\n",
    "3. Use a loop and conditional statements to check for even numbers.\n",
    "4. Print each even number.\n",
    "\n",
    "*Write pseudocode first, then write the full Python program. (Hint: Use the modulo operator `%` to determine if a number is even, e.g., `if number % 2 == 0`.)*"
   ]
  },
  {
   "cell_type": "markdown",
   "metadata": {},
   "source": [
    "## Final Notes\n",
    "\n",
    "Remember, **programming** is about thinking through a problem and designing a solution, while **coding** is the act of translating that solution into a programming language. By practicing both pseudocode and actual Python code, you’re learning to think like a computer scientist and write efficient, clear code.\n",
    "\n",
    "Feel free to ask questions or share your thoughts about the process. Happy coding and problem solving!"
   ]
  },
  {
   "cell_type": "code",
   "execution_count": null,
   "metadata": {},
   "outputs": [],
   "source": []
  }
 ],
 "metadata": {
  "kernelspec": {
   "display_name": "Python 3 (ipykernel)",
   "language": "python",
   "name": "python3"
  },
  "language_info": {
   "codemirror_mode": {
    "name": "ipython",
    "version": 3
   },
   "file_extension": ".py",
   "mimetype": "text/x-python",
   "name": "python",
   "nbconvert_exporter": "python",
   "pygments_lexer": "ipython3",
   "version": "3.11.9"
  }
 },
 "nbformat": 4,
 "nbformat_minor": 2
}
